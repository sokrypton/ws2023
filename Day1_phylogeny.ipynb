{
  "nbformat": 4,
  "nbformat_minor": 0,
  "metadata": {
    "colab": {
      "provenance": [],
      "include_colab_link": true
    },
    "kernelspec": {
      "name": "python3",
      "display_name": "Python 3"
    }
  },
  "cells": [
    {
      "cell_type": "markdown",
      "metadata": {
        "id": "view-in-github",
        "colab_type": "text"
      },
      "source": [
        "<a href=\"https://colab.research.google.com/github/sokrypton/ws2023/blob/main/Day1_phylogeny.ipynb\" target=\"_parent\"><img src=\"https://colab.research.google.com/assets/colab-badge.svg\" alt=\"Open In Colab\"/></a>"
      ]
    },
    {
      "cell_type": "markdown",
      "metadata": {
        "id": "pUbbIud8455E"
      },
      "source": [
        "Download example dataset we'll be using this week!"
      ]
    },
    {
      "cell_type": "code",
      "metadata": {
        "id": "Zb8D8Rxj4loP"
      },
      "source": [
        "%%bash\n",
        "wget -qnc https://raw.githubusercontent.com/sokrypton/ws2023/main/day1/phy_msa.fasta\n",
        "wget -qnc https://raw.githubusercontent.com/sokrypton/ws2023/main/day1/phy_msa_ext.fasta\n",
        "wget -qnc https://raw.githubusercontent.com/sokrypton/ws2023/main/day1/phy_primates.fasta"
      ],
      "execution_count": null,
      "outputs": []
    },
    {
      "cell_type": "markdown",
      "metadata": {
        "id": "9YsTlBHq5AXK"
      },
      "source": [
        "##BioPython Phylogeny\n",
        "https://biopython.org/wiki/Phylo"
      ]
    },
    {
      "cell_type": "code",
      "metadata": {
        "id": "DVzwDJKJ4_lX"
      },
      "source": [
        "# install biopython\n",
        "!pip -q install biopython"
      ],
      "execution_count": null,
      "outputs": []
    },
    {
      "cell_type": "code",
      "metadata": {
        "id": "5YDcEdLd5FAL"
      },
      "source": [
        "##########################################################\n",
        "# RUN THIS CELL!\n",
        "##########################################################\n",
        "import numpy as np\n",
        "import matplotlib.pylab as plt\n",
        "from Bio import Phylo\n",
        "\n",
        "##########################################################\n",
        "# functions we'll use later:\n",
        "##########################################################\n",
        "\n",
        "# Jukes-Cantor model\n",
        "def jc(p):\n",
        "  return (-3/4) * np.log(1-(4*p/3))\n",
        "\n",
        "def jc_correction(mtx):\n",
        "  '''takes distance matrix and applies Jukes-Cantor correction'''\n",
        "  new_mtx = []\n",
        "  for x in mtx:\n",
        "    new_mtx.append([])\n",
        "    for p in x:\n",
        "      new_mtx[-1].append(jc(p))\n",
        "  return new_mtx\n",
        "\n",
        "# function that removes labels from inner nodes\n",
        "def rm_inner(tree):\n",
        "  for node in tree.get_nonterminals():\n",
        "    node.name = None"
      ],
      "execution_count": null,
      "outputs": []
    },
    {
      "cell_type": "markdown",
      "metadata": {
        "id": "QpxV0rOx5hEH"
      },
      "source": [
        "# Parsimony method!"
      ]
    },
    {
      "cell_type": "code",
      "metadata": {
        "id": "YE0pFmOC5gT-"
      },
      "source": [
        "# library for loading alignments\n",
        "from Bio import AlignIO\n",
        "\n",
        "# lets try the alignment we walked through in class!\n",
        "simple_aln = AlignIO.read('phy_msa.fasta', 'fasta')\n",
        "print(simple_aln)"
      ],
      "execution_count": null,
      "outputs": []
    },
    {
      "cell_type": "code",
      "metadata": {
        "id": "0LVAfEUA5vZ9"
      },
      "source": [
        "simple_aln[2].seq"
      ],
      "execution_count": null,
      "outputs": []
    },
    {
      "cell_type": "code",
      "metadata": {
        "id": "MjmnzWHw5xRV"
      },
      "source": [
        "# libraries for Parsimony Method\n",
        "from Bio.Phylo.TreeConstruction import ParsimonyTreeConstructor\n",
        "from Bio.Phylo.TreeConstruction import ParsimonyScorer\n",
        "from Bio.Phylo.TreeConstruction import NNITreeSearcher\n",
        "\n",
        "# Fitch algorithm for tracing characters and counting number of steps\n",
        "scorer = ParsimonyScorer()\n",
        "\n",
        "# Nearest Neighbor Interchanges (NNI) algorithm\n",
        "searcher = NNITreeSearcher(scorer) \n",
        "\n",
        "# get parsimony tree!\n",
        "pars_tree = ParsimonyTreeConstructor(searcher, starting_tree=None).build_tree(simple_aln)\n",
        "\n",
        "# print parsimony score\n",
        "print(\"steps\",scorer.get_score(pars_tree,simple_aln))\n",
        "\n",
        "# remove inner labels (opinional)\n",
        "rm_inner(pars_tree)\n",
        "\n",
        "# draw the tree!\n",
        "Phylo.draw(pars_tree)"
      ],
      "execution_count": null,
      "outputs": []
    },
    {
      "cell_type": "markdown",
      "metadata": {
        "id": "jtsvmjp852At"
      },
      "source": [
        "#Distance Method!"
      ]
    },
    {
      "cell_type": "code",
      "metadata": {
        "id": "G4Q32mfc5z-V"
      },
      "source": [
        "# libraries for Distance Method\n",
        "from Bio.Phylo.TreeConstruction import DistanceTreeConstructor\n",
        "from Bio.Phylo.TreeConstruction import DistanceCalculator\n",
        "from Bio.Phylo.TreeConstruction import DistanceMatrix"
      ],
      "execution_count": null,
      "outputs": []
    },
    {
      "cell_type": "code",
      "metadata": {
        "id": "agd_Adtv55Q1"
      },
      "source": [
        "sarich_names = [\"Dog\",\"Bear\",\"Raccoon\",\"Weasel\",\"Seal\",\"Sealion\",\"Cat\",\"Monkey\"]\n",
        "sarich_dist = [\n",
        "    [0],\n",
        "    [32, 0],\n",
        "    [48, 26, 0],\n",
        "    [51, 34, 42, 0],\n",
        "    [50, 29, 44, 44, 0],\n",
        "    [48, 33, 44, 38, 24, 0],\n",
        "    [98, 84, 92, 86, 89, 90, 0],\n",
        "    [148,136,152,142,142,142,148,0]]\n",
        "\n",
        "sarich_dist_mtx = DistanceMatrix(sarich_names,sarich_dist)\n",
        "\n",
        "print(\"UPGMA tree\")\n",
        "sarich_upgma_tree = DistanceTreeConstructor().upgma(sarich_dist_mtx)\n",
        "rm_inner(sarich_upgma_tree)\n",
        "Phylo.draw(sarich_upgma_tree,branch_labels=lambda x: round(x.branch_length,2))\n",
        "\n",
        "print(\"NJ tree\")\n",
        "sarich_nj_tree = DistanceTreeConstructor().nj(sarich_dist_mtx)\n",
        "rm_inner(sarich_nj_tree)\n",
        "Phylo.draw(sarich_nj_tree,branch_labels=lambda x: round(x.branch_length,2))"
      ],
      "execution_count": null,
      "outputs": []
    },
    {
      "cell_type": "markdown",
      "metadata": {
        "id": "yUPS2aze5_w9"
      },
      "source": [
        "Starting from an alignment"
      ]
    },
    {
      "cell_type": "code",
      "metadata": {
        "id": "drQd_-fq56H0"
      },
      "source": [
        "# load alignment\n",
        "# this time, lets use an alignment with a bit more characters!\n",
        "\n",
        "aln = AlignIO.read('phy_msa_ext.fasta', 'fasta')\n",
        "print(aln)\n",
        "print(\"=================\")\n",
        "print(aln[0].id)\n",
        "print(aln[0].seq)"
      ],
      "execution_count": null,
      "outputs": []
    },
    {
      "cell_type": "code",
      "metadata": {
        "id": "Nui2s9_L6Bk0"
      },
      "source": [
        "# compute distance matrix\n",
        "dist_mtx = DistanceCalculator('identity').get_distance(aln)\n",
        "print(dist_mtx)\n",
        "# dist_mtx.names # names of elements, used for indexing\n",
        "# dist_mtx.matrix # nested list of numerical lists in lower triangular format"
      ],
      "execution_count": null,
      "outputs": []
    },
    {
      "cell_type": "code",
      "metadata": {
        "id": "daYHsib56Dm7"
      },
      "source": [
        "# Construct the phylogenetic tree using Neighbor Joining algorithm\n",
        "nj_tree = DistanceTreeConstructor().nj(dist_mtx)\n",
        "\n",
        "# remove inner labels (opinional)\n",
        "rm_inner(nj_tree)\n",
        "\n",
        "# print the tree in newick format\n",
        "print(nj_tree.format(\"newick\"))\n",
        "\n",
        "# draw the tree two different ways (image or as text)\n",
        "Phylo.draw(nj_tree)\n",
        "Phylo.draw_ascii(nj_tree)"
      ],
      "execution_count": null,
      "outputs": []
    },
    {
      "cell_type": "code",
      "metadata": {
        "id": "BjGGwZsp6Iy7"
      },
      "source": [
        "# reroot the tree using \"Alpha\"\n",
        "nj_tree.root_with_outgroup(\"Alpha\")\n",
        "Phylo.draw(nj_tree)\n",
        "\n",
        "nj_tree.root_at_midpoint()\n",
        "Phylo.draw(nj_tree)"
      ],
      "execution_count": null,
      "outputs": []
    },
    {
      "cell_type": "markdown",
      "metadata": {
        "id": "9uhL-PFY6NT9"
      },
      "source": [
        "# Exercise 1:\n",
        "1. Repeat with 'upgma' instead of 'nj'? Do the results change?\n",
        "```Python\n",
        "upgma_tree = DistanceTreeConstructor().upgma(dist_mtx)\n",
        "```\n",
        "2. What is the difference?"
      ]
    },
    {
      "cell_type": "code",
      "metadata": {
        "id": "RDd4zvTk6KNC"
      },
      "source": [],
      "execution_count": null,
      "outputs": []
    },
    {
      "cell_type": "markdown",
      "metadata": {
        "id": "4z92a53dqqsM"
      },
      "source": [
        "## BOOTSTRAP!"
      ]
    },
    {
      "cell_type": "code",
      "metadata": {
        "id": "c7Ci0pmvqtoE"
      },
      "source": [
        "# libraries for bootstrap support\n",
        "from Bio.Phylo.Consensus import bootstrap, bootstrap_trees, get_support\n",
        "\n",
        "# function to randomly generate 100 alignments (sampled with replacement\n",
        "# from our original alignment)\n",
        "bootstrap_aln = bootstrap(aln, 100)\n",
        "list_bootstrap_aln = list(bootstrap_aln)\n",
        "\n",
        "# lets go through the first 3!\n",
        "for n in range(3):\n",
        "  b_aln = list_bootstrap_aln[n]\n",
        "  b_dist_mtx = DistanceCalculator('identity').get_distance(b_aln)\n",
        "  b_nj_tree = DistanceTreeConstructor().nj(b_dist_mtx)\n",
        "  rm_inner(b_nj_tree)\n",
        "  \n",
        "  print(\"=================================\")\n",
        "  print(\"Bootstrap replicate:\",n+1)\n",
        "  print(\"=================================\")\n",
        "  print(b_aln)\n",
        "  print(b_dist_mtx)\n",
        "  Phylo.draw(b_nj_tree)"
      ],
      "execution_count": null,
      "outputs": []
    },
    {
      "cell_type": "code",
      "metadata": {
        "id": "wwLgDA2kqyvs"
      },
      "source": [
        "# luckily BioPython provides a \"wrapper\" function \"bootstrap_trees()\" that will do\n",
        "# all the steps in the previous cell for us!\n",
        "nj_trees = bootstrap_trees(aln, 100, DistanceTreeConstructor(DistanceCalculator('identity'),'nj'))\n",
        "list_nj_trees = list(nj_trees)\n",
        "\n",
        "# lets look at the first 3 trees\n",
        "for n in range(3):\n",
        "  print(\"=================================\")\n",
        "  print(\"Bootstrap replicate:\",n+1)\n",
        "  print(\"=================================\")\n",
        "  rm_inner(list_nj_trees[n])\n",
        "  Phylo.draw(list_nj_trees[n])\n"
      ],
      "execution_count": null,
      "outputs": []
    },
    {
      "cell_type": "code",
      "metadata": {
        "id": "JMM72-HOq3Gi"
      },
      "source": [
        "# now that we have our 100 bootstrap trees we can use the\n",
        "# \"get_support()\" function to add support values to nj_tree!\n",
        "nj_tree = get_support(nj_tree, list_nj_trees)\n",
        "Phylo.draw(nj_tree)"
      ],
      "execution_count": null,
      "outputs": []
    },
    {
      "cell_type": "markdown",
      "metadata": {
        "id": "RkZAUhGO6P6y"
      },
      "source": [
        "# Exercise 2:\n",
        "1. repeat with primates.fasta dataset\n",
        "2. reroot using Mouse/Bovine\n",
        "```Python\n",
        "tree.root_with_outgroup(\"Mouse\",\"Bovine\")\n",
        "```\n",
        "3. Who does Human share the closest ancestor to?\n",
        "4. Create a new distance matrix, but this time apply the Juke_Cantor correction. and repeat steps 1-2. Does anything change?\n",
        "```Python\n",
        "jc_dist_mtx = DistanceMatrix(dist_mtx.names,jc_correction(dist_mtx.matrix))\n",
        "```"
      ]
    },
    {
      "cell_type": "code",
      "metadata": {
        "id": "Y0l-RZhC6PMH"
      },
      "source": [
        "############\n",
        "## ANSWER ##\n",
        "############\n",
        "\n",
        "primates_aln = AlignIO.read('phy_primates.fasta', 'fasta')\n",
        "\n",
        "primates_dist_mtx = DistanceCalculator('identity').get_distance(primates_aln)\n",
        "primates_nj_tree = DistanceTreeConstructor().nj(primates_dist_mtx)\n",
        "rm_inner(primates_nj_tree)\n",
        "primates_nj_tree.root_with_outgroup(\"Mouse\",\"Bovine\")\n",
        "Phylo.draw(primates_nj_tree)"
      ],
      "execution_count": null,
      "outputs": []
    },
    {
      "cell_type": "code",
      "metadata": {
        "id": "XVTH_XUs6tWw"
      },
      "source": [
        "primates_jc_dist_mtx = DistanceMatrix(primates_dist_mtx.names,jc_correction(primates_dist_mtx.matrix))\n",
        "primates_jc_nj_tree = DistanceTreeConstructor().nj(primates_jc_dist_mtx)\n",
        "rm_inner(primates_jc_nj_tree)\n",
        "primates_jc_nj_tree.root_with_outgroup(\"Mouse\",\"Bovine\")\n",
        "Phylo.draw(primates_jc_nj_tree)\n"
      ],
      "execution_count": null,
      "outputs": []
    },
    {
      "cell_type": "code",
      "metadata": {
        "id": "thBMvIVt6kFn"
      },
      "source": [],
      "execution_count": null,
      "outputs": []
    }
  ]
}