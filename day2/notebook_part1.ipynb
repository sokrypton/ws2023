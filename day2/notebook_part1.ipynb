{
  "nbformat": 4,
  "nbformat_minor": 0,
  "metadata": {
    "colab": {
      "provenance": [],
      "authorship_tag": "ABX9TyPrjZK6qH9xAI0NdCdQkTvU",
      "include_colab_link": true
    },
    "kernelspec": {
      "name": "python3",
      "display_name": "Python 3"
    }
  },
  "cells": [
    {
      "cell_type": "markdown",
      "metadata": {
        "id": "view-in-github",
        "colab_type": "text"
      },
      "source": [
        "<a href=\"https://colab.research.google.com/github/sokrypton/ws2023/blob/main/day2/notebook_part1.ipynb\" target=\"_parent\"><img src=\"https://colab.research.google.com/assets/colab-badge.svg\" alt=\"Open In Colab\"/></a>"
      ]
    },
    {
      "cell_type": "code",
      "metadata": {
        "id": "xheRRyudtRi6"
      },
      "source": [
        "import numpy as np"
      ],
      "execution_count": null,
      "outputs": []
    },
    {
      "cell_type": "markdown",
      "metadata": {
        "id": "ULBksVvwRXSx"
      },
      "source": [
        "## Introduction to plot.ly"
      ]
    },
    {
      "cell_type": "code",
      "metadata": {
        "id": "cxYBuBfbRaiW"
      },
      "source": [
        "import matplotlib.pyplot as plt\n",
        "import plotly.express as px"
      ],
      "execution_count": null,
      "outputs": []
    },
    {
      "cell_type": "code",
      "metadata": {
        "id": "FT2NhT3WRcVd"
      },
      "source": [
        "x = np.random.normal(size=100)\n",
        "y = np.random.normal(size=100)\n",
        "plt.scatter(x,y)"
      ],
      "execution_count": null,
      "outputs": []
    },
    {
      "cell_type": "code",
      "metadata": {
        "id": "HlCCoSvhRkjb"
      },
      "source": [
        "px.scatter(x,y)"
      ],
      "execution_count": null,
      "outputs": []
    },
    {
      "cell_type": "code",
      "metadata": {
        "id": "DDntQEtdRuez"
      },
      "source": [
        "xy = np.random.normal(size=(10,10))\n",
        "plt.imshow(xy)\n",
        "plt.colorbar()"
      ],
      "execution_count": null,
      "outputs": []
    },
    {
      "cell_type": "code",
      "metadata": {
        "id": "1E_xkAbER6B9"
      },
      "source": [
        "px.imshow(xy)"
      ],
      "execution_count": null,
      "outputs": []
    },
    {
      "cell_type": "code",
      "metadata": {
        "id": "V7XWh6VYSSnB"
      },
      "source": [
        "z = np.random.normal(size=100)\n",
        "px.scatter_3d(x=x,y=y,z=z)"
      ],
      "execution_count": null,
      "outputs": []
    },
    {
      "cell_type": "markdown",
      "metadata": {
        "id": "qA-NV4g9S0-Q"
      },
      "source": [
        "## Introduction to SKLEARN"
      ]
    },
    {
      "cell_type": "code",
      "metadata": {
        "id": "ZmT9nuNqS3WT"
      },
      "source": [
        "# sklearn\n",
        "from sklearn.metrics import pairwise_distances\n",
        "from sklearn.datasets import make_blobs\n",
        "\n",
        "# dimensionality reduction methods\n",
        "from sklearn.decomposition import PCA\n",
        "from sklearn.manifold import MDS"
      ],
      "execution_count": null,
      "outputs": []
    },
    {
      "cell_type": "code",
      "metadata": {
        "id": "7NL6HxD8thQM"
      },
      "source": [
        "#@title helper functions <- RUN THIS\n",
        "import plotly.graph_objs as go\n",
        "from matplotlib.colors import ListedColormap\n",
        "import string\n",
        "\n",
        "colorway = [\"#1f77b4\", \"#ff7f0e\", \"#2ca02c\",\n",
        "              \"#d62728\",\"#9467bd\", \"#8c564b\",\n",
        "              \"#e377c2\", \"#7f7f7f\", \"#bcbd22\",\n",
        "              \"#17becf\"]\n",
        "\n",
        "c10 = lambda x: ListedColormap(colorway[:x])\n",
        "\n",
        "def make_2D_plot(values, groups=None, s=10, c=None, cmap=None):\n",
        "  '''\n",
        "  Given values and groups, returns a scatter plot colored by group\n",
        "  '''\n",
        "  if groups is None:\n",
        "    groups = np.zeros(len(values),int)\n",
        "    if c is None: c = np.arange(len(values))\n",
        "    if cmap is None: cmap = \"plasma\"\n",
        "  for group in np.unique(groups):\n",
        "    idx = groups == group\n",
        "    plt.scatter(values[idx, 0], values[idx, 1],\n",
        "                label=group, s=s, c=c, cmap=cmap)\n",
        "  if len(np.unique(groups)) > 1:\n",
        "    plt.legend(bbox_to_anchor=(1, 0, 0.5, 1), loc=\"upper left\",)\n",
        "  plt.axis(\"equal\")\n",
        "\n",
        "def make_3D_plot(values, groups=None, s=3):\n",
        "  if groups is None:\n",
        "    groups = np.zeros(len(values),int)\n",
        "    if values.shape[-1] > 3:\n",
        "      c = values[:,3]\n",
        "      c = (c - c.min()) / (c.max() - c.min())\n",
        "    else:\n",
        "      c = None\n",
        "  plot = []\n",
        "  for group in np.unique(groups):\n",
        "    idx = groups == group\n",
        "    plot.append(go.Scatter3d(\n",
        "        x=values[idx,0],\n",
        "        y=values[idx,1],\n",
        "        z=values[idx,2],\n",
        "        name=str(group),\n",
        "        mode='markers',\n",
        "        marker=dict(size=s,color=c)))\n",
        "\n",
        "  go.Figure(data=plot,layout=go.Layout(\n",
        "      colorway=colorway, scene={\"aspectmode\":\"data\"})).show()\n",
        "\n",
        "def parse_fasta(filename, a3m=False):\n",
        "  '''function to parse fasta file'''\n",
        "  if a3m:\n",
        "    # for a3m files the lowercase letters are removed\n",
        "    # as these do not align to the query sequence\n",
        "    rm_lc = str.maketrans(dict.fromkeys(string.ascii_lowercase))\n",
        "\n",
        "  header, sequence = [],[]\n",
        "  lines = open(filename, \"r\")\n",
        "  for line in lines:\n",
        "    line = line.rstrip()\n",
        "    if len(line) > 0:\n",
        "      if line[0] != \"#\":\n",
        "        if line[0] == \">\":\n",
        "          header.append(line[1:])\n",
        "          sequence.append([])\n",
        "        else:\n",
        "          if a3m: line = line.translate(rm_lc)\n",
        "          else: line = line.upper()\n",
        "          sequence[-1].append(line)\n",
        "  lines.close()\n",
        "  sequence = [''.join(seq) for seq in sequence]\n",
        "  return header, sequence\n",
        "\n",
        "def mk_msa(seqs):\n",
        "  '''one hot encode msa'''\n",
        "  alphabet = list(\"ARNDCQEGHILKMFPSTWYV-\")\n",
        "  states = len(alphabet)\n",
        "\n",
        "  alpha = np.array(alphabet, dtype='|S1').view(np.uint8)\n",
        "  msa = np.array([list(s) for s in seqs], dtype='|S1').view(np.uint8)\n",
        "  for n in range(states):\n",
        "    msa[msa == alpha[n]] = n\n",
        "  msa[msa > states] = states-1\n",
        "  return np.eye(states)[msa]"
      ],
      "execution_count": null,
      "outputs": []
    },
    {
      "cell_type": "code",
      "metadata": {
        "id": "Tx97uxkatqXL"
      },
      "source": [
        "# n_features = number of dimensions\n",
        "A, groups = make_blobs(n_samples=500, n_features=5, centers=5)"
      ],
      "execution_count": null,
      "outputs": []
    },
    {
      "cell_type": "code",
      "metadata": {
        "id": "fGHL347ETUZr"
      },
      "source": [
        "# making life a little easier\n",
        "# plot in 2D\n",
        "make_2D_plot(A, groups)"
      ],
      "execution_count": null,
      "outputs": []
    },
    {
      "cell_type": "markdown",
      "metadata": {
        "id": "MAaDu9HtxDEr"
      },
      "source": [
        "# use MDS to reduce to 2 dimensions"
      ]
    },
    {
      "cell_type": "code",
      "metadata": {
        "id": "kZ1k3DPPwOLk"
      },
      "source": [
        "B = MDS(n_components=2).fit_transform(A)"
      ],
      "execution_count": null,
      "outputs": []
    },
    {
      "cell_type": "code",
      "metadata": {
        "id": "e3Ypb-HxxMqd"
      },
      "source": [
        "make_2D_plot(B, groups)\n",
        "plt.xlabel(\"mds 1\")\n",
        "plt.ylabel(\"mds 2\")"
      ],
      "execution_count": null,
      "outputs": []
    },
    {
      "cell_type": "code",
      "metadata": {
        "id": "fz3Z7wOW0P9u"
      },
      "source": [
        "# comparing pairwise distances in 5D space and 2D space!\n",
        "dm_A = pairwise_distances(A)\n",
        "dm_B = pairwise_distances(B)\n",
        "\n",
        "plt.figure(figsize=(10,5))\n",
        "plt.subplot(1,2,1); plt.title(\"dm(A)\")\n",
        "plt.imshow(dm_A,cmap=\"Greys\")\n",
        "plt.subplot(1,2,2); plt.title(\"dm(B)\")\n",
        "plt.imshow(dm_B,cmap=\"Greys\")\n",
        "plt.show()"
      ],
      "execution_count": null,
      "outputs": []
    },
    {
      "cell_type": "code",
      "metadata": {
        "id": "Cz0IAA8UNd5z"
      },
      "source": [
        "plt.scatter(dm_A, dm_B, s=1)\n",
        "plt.xlabel(\"dm(A)\")\n",
        "plt.ylabel(\"dm(A)\")"
      ],
      "execution_count": null,
      "outputs": []
    },
    {
      "cell_type": "markdown",
      "metadata": {
        "id": "sfZHn5IiV_3E"
      },
      "source": [
        "# BACK TO LECTURE"
      ]
    },
    {
      "cell_type": "markdown",
      "metadata": {
        "id": "hslF9AC7weie"
      },
      "source": [
        "# use PCA to reduce to 2 dimensions"
      ]
    },
    {
      "cell_type": "code",
      "metadata": {
        "id": "VFG-DVEzWXpz"
      },
      "source": [
        "# we'll go from 3D to 2D and back to 3D!\n",
        "A, groups = make_blobs(n_samples=500, n_features=3, centers=5)"
      ],
      "execution_count": null,
      "outputs": []
    },
    {
      "cell_type": "code",
      "metadata": {
        "id": "jw_OuvzVt65e"
      },
      "source": [
        "make_3D_plot(A, groups)"
      ],
      "execution_count": null,
      "outputs": []
    },
    {
      "cell_type": "markdown",
      "metadata": {
        "id": "YwEQWJArWHPk"
      },
      "source": [
        "by simply rotating the plot above... you technically just did dimensionality reduction!!!"
      ]
    },
    {
      "cell_type": "code",
      "metadata": {
        "id": "MufCHovvtwlh"
      },
      "source": [
        "pca = PCA(n_components=2).fit(A)"
      ],
      "execution_count": null,
      "outputs": []
    },
    {
      "cell_type": "code",
      "metadata": {
        "id": "HRXgtIHot0eb"
      },
      "source": [
        "type(pca)"
      ],
      "execution_count": null,
      "outputs": []
    },
    {
      "cell_type": "code",
      "metadata": {
        "id": "7VEURkVfvKdI"
      },
      "source": [
        "# this is the \"W\" in the slides\n",
        "W = pca.components_.T"
      ],
      "execution_count": null,
      "outputs": []
    },
    {
      "cell_type": "code",
      "metadata": {
        "id": "VZ4WRTQtvN2c"
      },
      "source": [
        "# usually the data is centered at each dimension\n",
        "A_mean = pca.mean_"
      ],
      "execution_count": null,
      "outputs": []
    },
    {
      "cell_type": "code",
      "metadata": {
        "id": "FyOed13uvXv9"
      },
      "source": [
        "B = ((A - A_mean) @ W)\n",
        "# sklearn got you covered!\n",
        "# B = pca.transform(A)"
      ],
      "execution_count": null,
      "outputs": []
    },
    {
      "cell_type": "code",
      "metadata": {
        "id": "y8dqKf8quZMA"
      },
      "source": [
        "make_2D_plot(B, groups)\n",
        "plt.xlabel(\"PC 1\")\n",
        "plt.ylabel(\"PC 2\")"
      ],
      "execution_count": null,
      "outputs": []
    },
    {
      "cell_type": "code",
      "metadata": {
        "id": "Y3KHPvEZx-6d"
      },
      "source": [
        "A_ = (((A - A_mean) @ W)) @ W.T + A_mean\n",
        "# sklearn got you covered!\n",
        "# A_ = pca.inverse_transform(B)"
      ],
      "execution_count": null,
      "outputs": []
    },
    {
      "cell_type": "code",
      "metadata": {
        "id": "EirsQ6fWyKYt"
      },
      "source": [
        "make_3D_plot(A_, groups)"
      ],
      "execution_count": null,
      "outputs": []
    },
    {
      "cell_type": "code",
      "metadata": {
        "id": "vPZ1A214xOjN"
      },
      "source": [
        "# comparing input values and recovered values (after transforming back to 3D space)\n",
        "plt.scatter(A,A_,s=1)\n",
        "plt.xlabel(\"input data\")\n",
        "plt.ylabel(\"recovered data\")"
      ],
      "execution_count": null,
      "outputs": []
    },
    {
      "cell_type": "markdown",
      "metadata": {
        "id": "50s1mney2Fqv"
      },
      "source": [
        "By reducing the number of dimensions, how much data am I lossing?"
      ]
    },
    {
      "cell_type": "code",
      "metadata": {
        "id": "iwbeA98L2Tv3"
      },
      "source": [
        "# make 10 dimensional data\n",
        "A, groups = make_blobs(n_samples=500, n_features=10, centers=5)"
      ],
      "execution_count": null,
      "outputs": []
    },
    {
      "cell_type": "code",
      "metadata": {
        "id": "DdFj3HaD1Iom"
      },
      "source": [
        "pca = PCA().fit(A)"
      ],
      "execution_count": null,
      "outputs": []
    },
    {
      "cell_type": "code",
      "metadata": {
        "id": "sMIHxjFY2LDF"
      },
      "source": [
        "# looks like you can explain most of the data with only 3 dimensions!!\n",
        "plt.plot(pca.explained_variance_ratio_.cumsum())\n",
        "plt.xlabel(\"number of dimensions\")\n",
        "plt.ylabel(\"fraction of explained data\")"
      ],
      "execution_count": null,
      "outputs": []
    },
    {
      "cell_type": "code",
      "metadata": {
        "id": "YXUmdMgR2NE1"
      },
      "source": [
        "B = pca.transform(A)\n",
        "make_3D_plot(B,groups)"
      ],
      "execution_count": null,
      "outputs": []
    },
    {
      "cell_type": "markdown",
      "source": [
        "# REAL DATA"
      ],
      "metadata": {
        "id": "LE5-MysR_E4t"
      }
    },
    {
      "cell_type": "code",
      "source": [
        "nams, seqs = parse_fasta(\"example_tmp.fasta\")\n",
        "msa = mk_msa(seqs)\n",
        "N,L,A = msa.shape"
      ],
      "metadata": {
        "id": "WwVznWIg_F9k"
      },
      "execution_count": null,
      "outputs": []
    },
    {
      "cell_type": "code",
      "source": [
        "# reshape MSA from (N,L,A) to (N,L*A)\n",
        "N,L,A = msa.shape\n",
        "X = msa[...,:20].reshape(N,-1)\n",
        "pc = PCA(4).fit_transform(X)"
      ],
      "metadata": {
        "id": "3tmPLOVa_eWy"
      },
      "execution_count": null,
      "outputs": []
    },
    {
      "cell_type": "code",
      "source": [
        "make_3D_plot(pc)"
      ],
      "metadata": {
        "id": "uPmOutRP_hDH"
      },
      "execution_count": null,
      "outputs": []
    }
  ]
}