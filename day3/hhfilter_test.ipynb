{
  "nbformat": 4,
  "nbformat_minor": 0,
  "metadata": {
    "colab": {
      "provenance": [],
      "authorship_tag": "ABX9TyOaeTlmlm37vIcD9B8I6pxs",
      "include_colab_link": true
    },
    "kernelspec": {
      "name": "python3",
      "display_name": "Python 3"
    },
    "language_info": {
      "name": "python"
    }
  },
  "cells": [
    {
      "cell_type": "markdown",
      "metadata": {
        "id": "view-in-github",
        "colab_type": "text"
      },
      "source": [
        "<a href=\"https://colab.research.google.com/github/sokrypton/ws2023/blob/main/day3/hhfilter_test.ipynb\" target=\"_parent\"><img src=\"https://colab.research.google.com/assets/colab-badge.svg\" alt=\"Open In Colab\"/></a>"
      ]
    },
    {
      "cell_type": "code",
      "metadata": {
        "id": "kZ_2D4dqENmp"
      },
      "source": [
        "%%bash\n",
        "# static SSE2 build\n",
        "wget -qnc https://github.com/soedinglab/hh-suite/releases/download/v3.3.0/hhsuite-3.3.0-SSE2-Linux.tar.gz\n",
        "tar xfz hhsuite-3.3.0-SSE2-Linux.tar.gz"
      ],
      "execution_count": null,
      "outputs": []
    },
    {
      "cell_type": "code",
      "metadata": {
        "id": "8AsFarz9CPGq"
      },
      "source": [
        "import os\n",
        "os.environ['PATH'] += \":/content/bin:/content/scripts\""
      ],
      "execution_count": null,
      "outputs": []
    },
    {
      "cell_type": "code",
      "metadata": {
        "colab": {
          "base_uri": "https://localhost:8080/"
        },
        "id": "7EhlkNIPCccC",
        "outputId": "31a4d072-4de4-43e2-ecc3-04ab1bd429c1"
      },
      "source": [
        "!hhfilter"
      ],
      "execution_count": null,
      "outputs": [
        {
          "output_type": "stream",
          "text": [
            "HHfilter 3.3.0\n",
            "Filter an alignment by maximum pairwise sequence identity, minimum coverage,\n",
            "minimum sequence identity, or score per column to the first (seed) sequence.n(c) The HH-suite development team\n",
            "Steinegger M, Meier M, Mirdita M, Vöhringer H, Haunsberger S J, and Söding J (2019)\n",
            "HH-suite3 for fast remote homology detection and deep protein annotation.\n",
            "BMC Bioinformatics, doi:10.1186/s12859-019-3019-7\n",
            "\n",
            "Usage: hhfilter -i infile -o outfile [options]\n",
            " -i <file>      read input file in A3M/A2M or FASTA format                 \n",
            " -o <file>      write to output file in A3M format                         \n",
            " -a <file>      append to output file in A3M format                        \n",
            "\n",
            "Options:                                                                  \n",
            " -v <int>       verbose mode: 0:no screen output  1:only warings  2: verbose\n",
            " -id   [0,100]  maximum pairwise sequence identity (%) (def=90)   \n",
            " -diff [0,inf[  filter MSA by selecting most diverse set of sequences, keeping \n",
            "                at least this many seqs in each MSA block of length 50 (def=0) \n",
            " -cov  [0,100]  minimum coverage with query (%) (def=0) \n",
            " -qid  [0,100]  minimum sequence identity with query (%) (def=0) \n",
            " -qsc  [0,100]  minimum score per column with query  (def=-20.0)\n",
            " -neff [1,inf]  target diversity of alignment (default=off)\n",
            "\n",
            "Input alignment format:                                                    \n",
            " -M a2m         use A2M/A3M (default): upper case = Match; lower case = Insert;\n",
            "                '-' = Delete; '.' = gaps aligned to inserts (may be omitted)   \n",
            " -M first       use FASTA: columns with residue in 1st sequence are match states\n",
            " -M [0,100]     use FASTA: columns with fewer than X% gaps are match states   \n",
            "                                                                          \n",
            "Other options:\n",
            " -maxseq <int>  max number of input rows (def=65535)\n",
            " -maxres <int>  max number of HMM columns (def=20001)\n",
            "Example: hhfilter -id 50 -i d1mvfd_.a2m -o d1mvfd_.fil.a2m          \n",
            "\n",
            "- 03:39:29.300 ERROR: Input file is missing!\n",
            "\n"
          ],
          "name": "stdout"
        }
      ]
    },
    {
      "cell_type": "code",
      "metadata": {
        "id": "eqcgAbmMCc-4"
      },
      "source": [],
      "execution_count": null,
      "outputs": []
    }
  ]
}