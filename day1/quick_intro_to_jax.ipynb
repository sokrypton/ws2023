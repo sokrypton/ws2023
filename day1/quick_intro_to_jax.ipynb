{
  "nbformat": 4,
  "nbformat_minor": 0,
  "metadata": {
    "colab": {
      "provenance": [],
      "authorship_tag": "ABX9TyMw+fG6+wK8m5r1ZlNBDUxp",
      "include_colab_link": true
    },
    "kernelspec": {
      "name": "python3",
      "display_name": "Python 3"
    },
    "language_info": {
      "name": "python"
    }
  },
  "cells": [
    {
      "cell_type": "markdown",
      "metadata": {
        "id": "view-in-github",
        "colab_type": "text"
      },
      "source": [
        "<a href=\"https://colab.research.google.com/github/sokrypton/ws2023/blob/main/day1/quick_intro_to_jax.ipynb\" target=\"_parent\"><img src=\"https://colab.research.google.com/assets/colab-badge.svg\" alt=\"Open In Colab\"/></a>"
      ]
    },
    {
      "cell_type": "code",
      "execution_count": null,
      "metadata": {
        "id": "-gYKPBm_qeBf"
      },
      "outputs": [],
      "source": [
        "import numpy as np"
      ]
    },
    {
      "cell_type": "code",
      "source": [
        "import jax.numpy as jnp"
      ],
      "metadata": {
        "id": "hDaiAV8sseT3"
      },
      "execution_count": null,
      "outputs": []
    },
    {
      "cell_type": "code",
      "source": [
        "np.zeros(10)"
      ],
      "metadata": {
        "colab": {
          "base_uri": "https://localhost:8080/"
        },
        "id": "Uj-pU3vSshIg",
        "outputId": "c4896c46-3d4c-4146-8596-91228b3a94ad"
      },
      "execution_count": null,
      "outputs": [
        {
          "output_type": "execute_result",
          "data": {
            "text/plain": [
              "array([0., 0., 0., 0., 0., 0., 0., 0., 0., 0.])"
            ]
          },
          "metadata": {},
          "execution_count": 3
        }
      ]
    },
    {
      "cell_type": "code",
      "source": [
        "jnp.zeros(10)"
      ],
      "metadata": {
        "colab": {
          "base_uri": "https://localhost:8080/"
        },
        "id": "qD8egZldslrL",
        "outputId": "69f62684-8cce-4aaf-ee06-c2f86712dc3a"
      },
      "execution_count": null,
      "outputs": [
        {
          "output_type": "stream",
          "name": "stderr",
          "text": [
            "WARNING:jax._src.xla_bridge:No GPU/TPU found, falling back to CPU. (Set TF_CPP_MIN_LOG_LEVEL=0 and rerun for more info.)\n"
          ]
        },
        {
          "output_type": "execute_result",
          "data": {
            "text/plain": [
              "Array([0., 0., 0., 0., 0., 0., 0., 0., 0., 0.], dtype=float32)"
            ]
          },
          "metadata": {},
          "execution_count": 4
        }
      ]
    },
    {
      "cell_type": "code",
      "source": [
        "import jax"
      ],
      "metadata": {
        "id": "m19JNJzvsn0j"
      },
      "execution_count": null,
      "outputs": []
    },
    {
      "cell_type": "code",
      "source": [
        "def square(x):\n",
        "  return jnp.square(x)"
      ],
      "metadata": {
        "id": "3Vwd8MH4sslY"
      },
      "execution_count": null,
      "outputs": []
    },
    {
      "cell_type": "code",
      "source": [
        "square(10.0)"
      ],
      "metadata": {
        "colab": {
          "base_uri": "https://localhost:8080/"
        },
        "id": "tW8JNFTNsxZp",
        "outputId": "3e9a8dc2-a99a-407e-89db-1b8577ae4d69"
      },
      "execution_count": null,
      "outputs": [
        {
          "output_type": "execute_result",
          "data": {
            "text/plain": [
              "Array(100., dtype=float32, weak_type=True)"
            ]
          },
          "metadata": {},
          "execution_count": 7
        }
      ]
    },
    {
      "cell_type": "code",
      "source": [
        "grad_square = jax.grad(square)"
      ],
      "metadata": {
        "id": "ctYfwbnCszIG"
      },
      "execution_count": null,
      "outputs": []
    },
    {
      "cell_type": "code",
      "source": [
        "grad_square(10.0)"
      ],
      "metadata": {
        "colab": {
          "base_uri": "https://localhost:8080/"
        },
        "id": "I7XEpDqBs-at",
        "outputId": "ab34f92e-5863-48e8-ea02-347c53f8146d"
      },
      "execution_count": null,
      "outputs": [
        {
          "output_type": "execute_result",
          "data": {
            "text/plain": [
              "Array(20., dtype=float32, weak_type=True)"
            ]
          },
          "metadata": {},
          "execution_count": 9
        }
      ]
    },
    {
      "cell_type": "code",
      "source": [
        "def linear(params, inputs):\n",
        "  # y = mx + b\n",
        "  y = params[\"m\"] * inputs[\"x\"] + params[\"b\"]\n",
        "  loss = jnp.square(y - inputs[\"y\"])\n",
        "  return loss.mean()"
      ],
      "metadata": {
        "id": "bM2MMvLrs_HC"
      },
      "execution_count": null,
      "outputs": []
    },
    {
      "cell_type": "code",
      "source": [
        "x = np.random.normal(size=(10,))\n",
        "y = 2.0 * x + 5.0"
      ],
      "metadata": {
        "id": "1Uz8a7igtgV0"
      },
      "execution_count": null,
      "outputs": []
    },
    {
      "cell_type": "code",
      "source": [
        "import matplotlib.pyplot as plt"
      ],
      "metadata": {
        "id": "p1isn3xVtp0M"
      },
      "execution_count": null,
      "outputs": []
    },
    {
      "cell_type": "code",
      "source": [
        "params = {\"m\":1.0,\"b\":0.0}\n",
        "inputs = {\"x\":x, \"y\":y}"
      ],
      "metadata": {
        "id": "UR5AgDU5uGfK"
      },
      "execution_count": null,
      "outputs": []
    },
    {
      "cell_type": "code",
      "source": [
        "# output is loss\n",
        "linear(params, inputs)"
      ],
      "metadata": {
        "colab": {
          "base_uri": "https://localhost:8080/"
        },
        "id": "YYA7p1I0tozb",
        "outputId": "c1654021-d660-4c7b-fab1-8b167dcf03be"
      },
      "execution_count": null,
      "outputs": [
        {
          "output_type": "execute_result",
          "data": {
            "text/plain": [
              "Array(27.926731, dtype=float32)"
            ]
          },
          "metadata": {},
          "execution_count": 35
        }
      ]
    },
    {
      "cell_type": "code",
      "source": [
        "plt.scatter(inputs[\"x\"],inputs[\"y\"],label=\"raw data\")\n",
        "plt.plot(np.linspace(-2,2,10),\n",
        "         np.linspace(-2,2,10) * params[\"m\"] + params[\"b\"], label=\"fit\", color=\"red\") \n",
        "plt.xlabel(\"X\");plt.ylabel(\"Y\")\n",
        "plt.legend()\n",
        "plt.plot()"
      ],
      "metadata": {
        "colab": {
          "base_uri": "https://localhost:8080/",
          "height": 473
        },
        "id": "gainfuWV0ELJ",
        "outputId": "d8ec7959-dd34-4936-8b2f-4fb84e35c135"
      },
      "execution_count": null,
      "outputs": [
        {
          "output_type": "execute_result",
          "data": {
            "text/plain": [
              "[]"
            ]
          },
          "metadata": {},
          "execution_count": 36
        },
        {
          "output_type": "display_data",
          "data": {
            "text/plain": [
              "<Figure size 640x480 with 1 Axes>"
            ],
            "image/png": "[encoded data removed]"
          },
          "metadata": {}
        }
      ]
    },
    {
      "cell_type": "code",
      "source": [
        "grad_linear = jax.grad(linear)"
      ],
      "metadata": {
        "id": "2BCdKSafuLtz"
      },
      "execution_count": null,
      "outputs": []
    },
    {
      "cell_type": "code",
      "source": [
        "# output is gradient (or partial derivative) on how to update variables to minimize loss\n",
        "grad_linear(params, inputs)"
      ],
      "metadata": {
        "colab": {
          "base_uri": "https://localhost:8080/"
        },
        "id": "JEcnvmzOwIOY",
        "outputId": "dbcf1580-9fad-4070-9e97-dd227eb52e66"
      },
      "execution_count": null,
      "outputs": [
        {
          "output_type": "execute_result",
          "data": {
            "text/plain": [
              "{'b': Array(-10.343814, dtype=float32, weak_type=True),\n",
              " 'm': Array(-4.1343923, dtype=float32, weak_type=True)}"
            ]
          },
          "metadata": {},
          "execution_count": 39
        }
      ]
    },
    {
      "cell_type": "code",
      "source": [
        "for i in range(50):\n",
        "  grad = grad_linear(params, inputs)\n",
        "  # params[\"m\"] = params[\"m\"] - 0.1 * grad[\"m\"]\n",
        "  # params[\"b\"] = params[\"b\"] - 0.1 * grad[\"b\"]\n",
        "  params = jax.tree_map(lambda x,g: x-0.1*g, params, grad)\n",
        "  print(i, linear(params, inputs))"
      ],
      "metadata": {
        "colab": {
          "base_uri": "https://localhost:8080/"
        },
        "id": "zCHPkrz6wLD5",
        "outputId": "ce466e71-afb1-4f13-f97e-44ce5f38453e"
      },
      "execution_count": null,
      "outputs": [
        {
          "output_type": "stream",
          "name": "stdout",
          "text": [
            "0 16.941368\n",
            "1 10.386545\n",
            "2 6.4339385\n",
            "3 4.025024\n",
            "4 2.5414257\n",
            "5 1.618391\n",
            "6 1.0385664\n",
            "7 0.671066\n",
            "8 0.43622944\n",
            "9 0.2850612\n",
            "10 0.18711774\n",
            "11 0.12329769\n",
            "12 0.08150799\n",
            "13 0.054028638\n",
            "14 0.035894975\n",
            "15 0.023892524\n",
            "16 0.015928308\n",
            "17 0.010632455\n",
            "18 0.0071049123\n",
            "19 0.0047518387\n",
            "20 0.0031803579\n",
            "21 0.0021298395\n",
            "22 0.0014269747\n",
            "23 0.0009564501\n",
            "24 0.0006412791\n",
            "25 0.00043006922\n",
            "26 0.00028848308\n",
            "27 0.0001935404\n",
            "28 0.00012986931\n",
            "29 8.7150685e-05\n",
            "30 5.8489917e-05\n",
            "31 3.9260085e-05\n",
            "32 2.635038e-05\n",
            "33 1.7689412e-05\n",
            "34 1.1875074e-05\n",
            "35 7.972939e-06\n",
            "36 5.3518806e-06\n",
            "37 3.593323e-06\n",
            "38 2.412399e-06\n",
            "39 1.6195769e-06\n",
            "40 1.0870543e-06\n",
            "41 7.295861e-07\n",
            "42 4.899011e-07\n",
            "43 3.2887246e-07\n",
            "44 2.2079506e-07\n",
            "45 1.482217e-07\n",
            "46 9.959342e-08\n",
            "47 6.694715e-08\n",
            "48 4.496969e-08\n",
            "49 3.0180452e-08\n"
          ]
        }
      ]
    },
    {
      "cell_type": "code",
      "source": [
        "params"
      ],
      "metadata": {
        "colab": {
          "base_uri": "https://localhost:8080/"
        },
        "id": "ecqxI_6-wo_h",
        "outputId": "8380e2b5-24eb-4ff7-fc7d-05e6974208fc"
      },
      "execution_count": null,
      "outputs": [
        {
          "output_type": "execute_result",
          "data": {
            "text/plain": [
              "{'b': Array(4.9998403, dtype=float32, weak_type=True),\n",
              " 'm': Array(2.000089, dtype=float32, weak_type=True)}"
            ]
          },
          "metadata": {},
          "execution_count": 43
        }
      ]
    },
    {
      "cell_type": "code",
      "source": [
        "plt.scatter(inputs[\"x\"],inputs[\"y\"],label=\"raw data\")\n",
        "plt.plot(np.linspace(-2,2,10),\n",
        "         np.linspace(-2,2,10) * params[\"m\"] + params[\"b\"], label=\"fit\", color=\"red\") \n",
        "plt.xlabel(\"X\");plt.ylabel(\"Y\")\n",
        "plt.legend()\n",
        "plt.plot()"
      ],
      "metadata": {
        "id": "60UgLvtBwswi",
        "colab": {
          "base_uri": "https://localhost:8080/",
          "height": 467
        },
        "outputId": "e44c072f-3b67-4722-a22c-16b4d89c7218"
      },
      "execution_count": null,
      "outputs": [
        {
          "output_type": "execute_result",
          "data": {
            "text/plain": [
              "[]"
            ]
          },
          "metadata": {},
          "execution_count": 44
        },
        {
          "output_type": "display_data",
          "data": {
            "text/plain": [
              "<Figure size 640x480 with 1 Axes>"
            ],
            "image/png": "[encoded data removed]"
          },
          "metadata": {}
        }
      ]
    },
    {
      "cell_type": "code",
      "source": [],
      "metadata": {
        "id": "YNK5r1aP9Fhz"
      },
      "execution_count": null,
      "outputs": []
    }
  ]
}