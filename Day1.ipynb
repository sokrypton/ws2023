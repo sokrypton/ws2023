{
  "nbformat": 4,
  "nbformat_minor": 0,
  "metadata": {
    "colab": {
      "provenance": [],
      "authorship_tag": "ABX9TyMHX4/1123n7WTLuvbnKp45",
      "include_colab_link": true
    },
    "kernelspec": {
      "name": "python3",
      "display_name": "Python 3"
    },
    "language_info": {
      "name": "python"
    }
  },
  "cells": [
    {
      "cell_type": "markdown",
      "metadata": {
        "id": "view-in-github",
        "colab_type": "text"
      },
      "source": [
        "<a href=\"https://colab.research.google.com/github/sokrypton/ws2023/blob/main/Day1.ipynb\" target=\"_parent\"><img src=\"https://colab.research.google.com/assets/colab-badge.svg\" alt=\"Open In Colab\"/></a>"
      ]
    },
    {
      "cell_type": "markdown",
      "source": [
        "#Exercise 1: Parse Fasta file (MSA)\n",
        "\n",
        "Write a function that: Reads in a FASTA file and returns two lists: Names (that start with \">\") and sequences.\n",
        "\n",
        "```python\n",
        "def parse_fasta(filename):\n",
        "  # something\n",
        "  return names, seqs\n",
        "```\n",
        "\n",
        "For example an input file that looks like:\n",
        "(Note the sequences maybe split into multiple lines and maybe of variable length)\n",
        "```\n",
        ">name_1\n",
        "-ABC--ABC--ABC\n",
        ">name_2\n",
        "-ABACCCBC\n",
        "AAADC\n",
        ">name_3\n",
        "-----CCBC-----\n",
        ">name_4\n",
        "-AACC-CBC--\n",
        "ACC\n",
        "```\n",
        "and returns the following two lists.\n",
        "```python\n",
        "['name_1','name_2','name_3','name_4']\n",
        "['-ABC--ABC--ABC','-ABACCCBCAAADC','-----CCBC-----',\"-AACC-CBC--ACC\"]\n",
        "```"
      ],
      "metadata": {
        "id": "qPmGzrtlewK-"
      }
    },
    {
      "cell_type": "code",
      "execution_count": null,
      "metadata": {
        "id": "OxJwYHujeZwZ"
      },
      "outputs": [],
      "source": [
        "%%writefile test.fasta\n",
        ">name_1\n",
        "-ABC--ABC--ABC\n",
        ">name_2\n",
        "-ABACCCBC\n",
        "AAADC\n",
        ">name_3\n",
        "-----CCBC-----\n",
        ">name_4\n",
        "-AACC-CBC--\n",
        "ACC"
      ]
    },
    {
      "cell_type": "code",
      "source": [
        "#@title answer\n",
        "def parse_fasta(filename):\n",
        "  '''function to parse fasta'''  \n",
        "  # create empty lists to append names/seqs\n",
        "  names = []\n",
        "  seqs = [] \n",
        "  # open file\n",
        "  lines = open(filename, \"r\")  \n",
        "  # go through file, line by line\n",
        "  for line in lines:\n",
        "    # remove linebreak\n",
        "    line = line.rstrip()    \n",
        "    # if the first character is \">\"\n",
        "    if line[0] == \">\":      \n",
        "      # save name\n",
        "      names.append(line[1:])     \n",
        "      # start empty string\n",
        "      seqs.append(\"\")\n",
        "    else:      \n",
        "      # add to existing string\n",
        "      seqs[-1] += line      \n",
        "  # close file\n",
        "  lines.close() \n",
        "  return names, seqs"
      ],
      "metadata": {
        "cellView": "form",
        "id": "nkPOqNbC924w"
      },
      "execution_count": null,
      "outputs": []
    },
    {
      "cell_type": "code",
      "source": [
        "names, seqs = parse_fasta(\"test.fasta\")\n",
        "print(names, seqs)"
      ],
      "metadata": {
        "id": "TdQOrWGR9_gW"
      },
      "execution_count": null,
      "outputs": []
    },
    {
      "cell_type": "markdown",
      "source": [
        "## Execise 2: Filter the MSA\n",
        "\n",
        "Write a function that:\n",
        "1. Remove positions that are gap (\"-\") in the query (first) sequence.\n",
        "2. Remove sequences that have > 25% gaps (\"-\").\n",
        "\n",
        "```python\n",
        "def filt_seqs(names, seqs):\n",
        "  # something\n",
        "  return new_names, new_seqs\n",
        "```\n",
        "\n",
        "Input example:\n",
        "```\n",
        "-ABC--ABC--ABC\n",
        "-ABACCCBCAAADC\n",
        "-----CCBC-----\n",
        "-AACC-CBC--ACC\n",
        "```\n",
        "Output example:\n",
        "```\n",
        "ABCABCABC\n",
        "ABACBCADC\n",
        "AACCBCACC\n",
        "```"
      ],
      "metadata": {
        "id": "599ZJjqy-JBy"
      }
    },
    {
      "cell_type": "code",
      "source": [
        "#@title answer\n",
        "import numpy as np\n",
        "def filt_seqs(names, seqs):\n",
        "  \n",
        "  # get query (first) sequence\n",
        "  query_seq = seqs[0]\n",
        "  \n",
        "  # convert sequence into numpy array of characters\n",
        "  query_array = np.array(list(query_seq))\n",
        "  \n",
        "  # check which characters are not \"-\"\n",
        "  query_non_gap = query_array != \"-\"\n",
        "  \n",
        "  # the length of query\n",
        "  query_length = sum(query_non_gap)\n",
        "  \n",
        "  # make a new list of names/sequences\n",
        "  new_names = []\n",
        "  new_seqs = []\n",
        "    \n",
        "  # for each name and sequence\n",
        "  for name,seq in zip(names,seqs):\n",
        "    \n",
        "    # convert sequence into numpy array of characters\n",
        "    seq_array = np.array(list(seq))\n",
        "\n",
        "    # select only positions that are non-gap in query\n",
        "    seq_array = seq_array[query_non_gap]\n",
        "\n",
        "    # count number of gaps remaining in sequence\n",
        "    seq_gap_count = sum(seq_array == \"-\")\n",
        "    \n",
        "    # if there are more than 25% gaps, ignore\n",
        "    if seq_gap_count/query_length <= 0.25:\n",
        "      new_names.append(name)\n",
        "      new_seqs.append(\"\".join(seq_array))\n",
        "            \n",
        "  return new_names, new_seqs"
      ],
      "metadata": {
        "cellView": "form",
        "id": "GGDByub--CZC"
      },
      "execution_count": null,
      "outputs": []
    },
    {
      "cell_type": "code",
      "source": [
        "new_names, new_seqs = filt_seqs(names,seqs)\n",
        "print(new_names, new_seqs)"
      ],
      "metadata": {
        "id": "N8I6ir-1-Zbd"
      },
      "execution_count": null,
      "outputs": []
    },
    {
      "cell_type": "markdown",
      "source": [
        "# Exercise 3: Parse and Filter Blast output"
      ],
      "metadata": {
        "id": "rkMRxC-_-k5J"
      }
    },
    {
      "cell_type": "code",
      "source": [
        "!wget -qnc https://raw.githubusercontent.com/sokrypton/ws2023/main/day1/example.fasta"
      ],
      "metadata": {
        "id": "czSvAKBL-1L9"
      },
      "execution_count": null,
      "outputs": []
    },
    {
      "cell_type": "code",
      "source": [
        "names, seqs = parse_fasta(\"example.fasta\")\n",
        "new_names, new_seqs = filt_seqs(names,seqs)"
      ],
      "metadata": {
        "id": "qPu0_cPn-ZrC"
      },
      "execution_count": null,
      "outputs": []
    },
    {
      "cell_type": "code",
      "source": [
        "def save_fasta(filename,names,seqs):\n",
        "  # open file\n",
        "  new_fasta = open(filename,\"w\")\n",
        "\n",
        "  # for each name and seq\n",
        "  for name,seq in zip(names,seqs):\n",
        "    new_fasta.write(\">\"+name+\"\\n\"+seq+\"\\n\")\n",
        "\n",
        "  # close file\n",
        "  new_fasta.close()"
      ],
      "metadata": {
        "id": "HDCS6tsj-x-I"
      },
      "execution_count": null,
      "outputs": []
    },
    {
      "cell_type": "code",
      "source": [
        "save_fasta(\"example_filt.fasta\",new_names,new_seqs)"
      ],
      "metadata": {
        "id": "dj5zRqnT-yfe"
      },
      "execution_count": null,
      "outputs": []
    },
    {
      "cell_type": "code",
      "source": [],
      "metadata": {
        "id": "wYaGF0Pp-9Cg"
      },
      "execution_count": null,
      "outputs": []
    },
    {
      "cell_type": "markdown",
      "source": [
        "# logomaker (weblogo inside notebook)\n",
        "https://logomaker.readthedocs.io/"
      ],
      "metadata": {
        "id": "JDmHOOoL_nlm"
      }
    },
    {
      "cell_type": "code",
      "source": [
        "!pip -q install logomaker"
      ],
      "metadata": {
        "id": "k8CTe_N__mfA"
      },
      "execution_count": null,
      "outputs": []
    },
    {
      "cell_type": "code",
      "source": [
        "import logomaker as logo\n",
        "import matplotlib.pyplot as plt"
      ],
      "metadata": {
        "id": "MUgGDRKe_riJ"
      },
      "execution_count": null,
      "outputs": []
    },
    {
      "cell_type": "code",
      "source": [
        "bits = logo.alignment_to_matrix(new_seqs,to_type='information')\n",
        "plot = logo.Logo(bits, color_scheme=\"hydrophobicity\", figsize=(20,2))\n",
        "plot.style_xticks(anchor=0, spacing=5)\n",
        "plot.ax.set_xlabel(\"positions\")\n",
        "plot.ax.set_ylabel(\"information (bits)\")\n",
        "plot.fig.tight_layout()\n",
        "plt.savefig(\"tmp.pdf\")"
      ],
      "metadata": {
        "id": "FYhJ_x6g_4ge"
      },
      "execution_count": null,
      "outputs": []
    }
  ]
}