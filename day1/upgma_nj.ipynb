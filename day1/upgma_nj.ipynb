{
  "nbformat": 4,
  "nbformat_minor": 0,
  "metadata": {
    "colab": {
      "provenance": [],
      "include_colab_link": true
    },
    "kernelspec": {
      "name": "python3",
      "display_name": "Python 3"
    }
  },
  "cells": [
    {
      "cell_type": "markdown",
      "metadata": {
        "id": "view-in-github",
        "colab_type": "text"
      },
      "source": [
        "<a href=\"https://colab.research.google.com/github/sokrypton/ws2023/blob/main/day1/upgma_nj.ipynb\" target=\"_parent\"><img src=\"https://colab.research.google.com/assets/colab-badge.svg\" alt=\"Open In Colab\"/></a>"
      ]
    },
    {
      "cell_type": "code",
      "metadata": {
        "id": "81troL-FMOU3"
      },
      "source": [
        "import numpy as np\n",
        "import matplotlib.pyplot as plt"
      ],
      "execution_count": null,
      "outputs": []
    },
    {
      "cell_type": "code",
      "metadata": {
        "id": "cNst0HxKMQE-"
      },
      "source": [
        "dm = [[  0, 32, 48, 51, 50, 48, 98,148],\n",
        "      [ 32,  0, 26, 34, 29, 33, 84,136],\n",
        "      [ 48, 26,  0, 42, 44, 44, 92,152],\n",
        "      [ 51, 34, 42,  0, 44, 38, 86,142],\n",
        "      [ 50, 29, 44, 44,  0, 24, 89,142],\n",
        "      [ 48, 33, 44, 38, 24,  0, 90,142],\n",
        "      [ 98, 84, 92, 86, 89, 90,  0,148],\n",
        "      [148,136,152,142,142,142,148,  0]]\n",
        "      \n",
        "labels = [\"Dog\",\"Bear\",\"Raccoon\",\"Weasel\",\"Seal\",\"SeaLion\",\"Cat\",\"Monkey\"]"
      ],
      "execution_count": null,
      "outputs": []
    },
    {
      "cell_type": "code",
      "metadata": {
        "id": "SOJlcJp56bqs"
      },
      "source": [
        "def get_NJ(X, upgma=False, nw=True, nw_labels=None, nw_parent=False):\n",
        "  '''\n",
        "  given distance matrix, return tree\n",
        "  --------------------------------------------------------\n",
        "  - X:         input distance matrix\n",
        "  - upgma:     [True/False] do upgma instead of neighbor joining\n",
        "  ----------------------------------------------------------------\n",
        "  - nw:        [True/False] return newick string\n",
        "  - nw_labels: use provided labels\n",
        "  - nw_parent: [True/False] label parent nodes in newick string\n",
        "  ----------------------------------------------------------------\n",
        "  '''\n",
        "  def min_idx(q):\n",
        "    '''given symmetric matrix, return indices of smallest value'''\n",
        "    i = np.triu_indices_from(q,1)\n",
        "    i_min = np.argmin(q[i])\n",
        "    return [j[i_min] for j in i]\n",
        "\n",
        "  dm = np.array(X)          # distance matrix\n",
        "  L = dm.shape[0]           # num of nodes\n",
        "  nodes = np.arange(L)      # list of nodes\n",
        "  adj = [None] * (L-1) * 2  # adj. table\n",
        "\n",
        "  if upgma:\n",
        "    # keep track of total distances accounted for\n",
        "    dist_to_tip = np.zeros(L)\n",
        "  \n",
        "  if nw:\n",
        "    # initialize newick-string\n",
        "    if nw_labels is None: nw_labels = nodes.astype(np.str)\n",
        "    else: nw_labels = np.array(nw_labels)\n",
        "\n",
        "  # build tree\n",
        "  for n in range(L-1):\n",
        "    # new parent node    \n",
        "    parent_node = n + L\n",
        "\n",
        "    if upgma:\n",
        "      # indices of min(dm matrix)\n",
        "      idx = min_idx(dm)\n",
        "      \n",
        "      # compute branch lengths\n",
        "      branch_len_avg = dm[idx[0],idx[1]]/2\n",
        "      \n",
        "      # substract distance already accounted for\n",
        "      branch_len_0, branch_len_1 = branch_len_avg - dist_to_tip[idx]\n",
        "\n",
        "    else:\n",
        "      # compute q matrix\n",
        "      dm_len = dm.shape[0]-2\n",
        "      dm_sum = dm.sum(0)\n",
        "      q = (dm_len * dm) - dm_sum[None,:] - dm_sum[:,None]\n",
        "      \n",
        "      # indices of min(q matrix)\n",
        "      idx = min_idx(q) \n",
        "\n",
        "      # compute branch lengths\n",
        "      branch_len_avg = dm[idx[0],idx[1]]/2\n",
        "      if dm_len == 0:\n",
        "        branch_len_0 = branch_len_1 = branch_len_avg\n",
        "      else:\n",
        "        y = dm_sum[idx]/(2*dm_len)\n",
        "        branch_len_0 = branch_len_avg + (y[0] - y[1])\n",
        "        branch_len_1 = branch_len_avg + (y[1] - y[0])\n",
        "\n",
        "    # update adj. table\n",
        "    child_node_0, child_node_1 = nodes[idx]\n",
        "    adj[child_node_0] = [child_node_0, parent_node, branch_len_0]\n",
        "    adj[child_node_1] = [child_node_1, parent_node, branch_len_1]\n",
        "\n",
        "    # update newick string\n",
        "    if nw:\n",
        "      nw_labels_ = f\"({nw_labels[idx[0]]}:{branch_len_0},\"\n",
        "      nw_labels_ += f\"{nw_labels[idx[1]]}:{branch_len_1})\"\n",
        "      if nw_parent: nw_labels_ += f\"p{parent_node}\"\n",
        "      nw_labels = np.append(np.delete(nw_labels,idx),nw_labels_)\n",
        "\n",
        "    # del children nodes, add parent node\n",
        "    nodes = np.append(np.delete(nodes,idx),parent_node)\n",
        "\n",
        "    ###############\n",
        "    ## UPDATE DM ##\n",
        "    ###############\n",
        "\n",
        "    # add parent\n",
        "    parent_dist = dm[idx].mean(0,keepdims=True)\n",
        "    if upgma: dist_to_tip = np.append(np.delete(dist_to_tip, idx), branch_len_avg)\n",
        "    else: parent_dist -= branch_len_avg\n",
        "    dm = np.append(dm,parent_dist,0) # add row\n",
        "    dm = np.append(dm,np.append(parent_dist,0)[:,None],1) # add col\n",
        "\n",
        "    # del children\n",
        "    dm = np.delete(dm,idx,0) # del row\n",
        "    dm = np.delete(dm,idx,1) # del col\n",
        "\n",
        "  if nw: return adj, nw_labels[0]\n",
        "  else: return adj"
      ],
      "execution_count": null,
      "outputs": []
    },
    {
      "cell_type": "code",
      "metadata": {
        "id": "8ttOjikYzq4w"
      },
      "source": [
        "adj, nw = get_NJ(dm, upgma=True, nw_labels=labels)"
      ],
      "execution_count": null,
      "outputs": []
    },
    {
      "cell_type": "code",
      "metadata": {
        "id": "RzU7Nnsdy9C1",
        "colab": {
          "base_uri": "https://localhost:8080/",
          "height": 33
        },
        "outputId": "d5268bd6-03ec-4c6a-a683-a64e5696f8de"
      },
      "source": [
        "!pip -q install biopython\n",
        "from Bio import Phylo\n",
        "from io import StringIO"
      ],
      "execution_count": null,
      "outputs": [
        {
          "output_type": "stream",
          "text": [
            "\u001b[K     |████████████████████████████████| 2.3MB 2.7MB/s \n",
            "\u001b[?25h"
          ],
          "name": "stdout"
        }
      ]
    },
    {
      "cell_type": "code",
      "metadata": {
        "id": "eVxbRhDCfsKX",
        "colab": {
          "base_uri": "https://localhost:8080/",
          "height": 278
        },
        "outputId": "04ce683b-f5a5-4603-c052-d1ee408559d4"
      },
      "source": [
        "tree = Phylo.read(StringIO(nw), \"newick\")\n",
        "Phylo.draw(tree)"
      ],
      "execution_count": null,
      "outputs": [
        {
          "output_type": "display_data",
          "data": {
            "image/png": "[encoded data removed]",
            "text/plain": [
              "<Figure size 432x288 with 1 Axes>"
            ]
          },
          "metadata": {
            "tags": [],
            "needs_background": "light"
          }
        }
      ]
    },
    {
      "cell_type": "code",
      "metadata": {
        "id": "eLQJzVsIuJEq",
        "colab": {
          "base_uri": "https://localhost:8080/",
          "height": 278
        },
        "outputId": "6256b96f-9d16-43a8-e304-3e73418dd925"
      },
      "source": [
        "# with neighbor-joining\n",
        "adj, nw = get_NJ(dm, upgma=False, nw_labels=labels)\n",
        "tree = Phylo.read(StringIO(nw), \"newick\")\n",
        "tree.root_at_midpoint()\n",
        "Phylo.draw(tree)"
      ],
      "execution_count": null,
      "outputs": [
        {
          "output_type": "display_data",
          "data": {
            "image/png": "[encoded data removed]",
            "text/plain": [
              "<Figure size 432x288 with 1 Axes>"
            ]
          },
          "metadata": {
            "tags": [],
            "needs_background": "light"
          }
        }
      ]
    },
    {
      "cell_type": "markdown",
      "metadata": {
        "id": "ErEgCc2Ky-v-"
      },
      "source": [
        "## EXTRACT tip-to-tip distances"
      ]
    },
    {
      "cell_type": "code",
      "metadata": {
        "id": "NuLpj31UEGWa"
      },
      "source": [
        "def get_DM(adj):\n",
        "  '''\n",
        "  given adjacency table, return distance matrix\n",
        "  '''\n",
        "  num_branches = len(adj)\n",
        "  num_tips = int(num_branches/2) + 1\n",
        "  \n",
        "  # for each tip, compute distance to each ancestor\n",
        "  def get_ancestors(n):\n",
        "    '''\n",
        "    - input: tip id\n",
        "    - output: list(ancestor id), list(dist. to ancestor)\n",
        "    '''\n",
        "    dist,N,D = 0,[],[]\n",
        "    while n < num_branches:\n",
        "      _,n,branch_len = adj[n]\n",
        "      dist += branch_len\n",
        "      N.append(n)\n",
        "      D.append(dist)\n",
        "    return N,D\n",
        "\n",
        "  ancestors = [get_ancestors(i) for i in range(num_tips)]\n",
        "  \n",
        "  # for each pair of tips, add distance to common ancestor\n",
        "  DM = np.zeros((num_tips, num_tips))\n",
        "  for i in range(num_tips):\n",
        "    ni,di = ancestors[i]\n",
        "    for j in range(i+1,num_tips):\n",
        "      nj,dj = ancestors[j]\n",
        "      # find common ancestor\n",
        "      a,b = 0,0\n",
        "      while True:\n",
        "        if ni[a] < nj[b]: a += 1\n",
        "        elif nj[b] < ni[a]: b += 1\n",
        "        else: break\n",
        "      # add distances to ancestor\n",
        "      DM[i,j] = di[a] + dj[b]\n",
        "      \n",
        "  return DM + DM.T"
      ],
      "execution_count": null,
      "outputs": []
    },
    {
      "cell_type": "code",
      "metadata": {
        "id": "c7b0TPKoRWbV"
      },
      "source": [
        "dm_fix = get_DM(adj)"
      ],
      "execution_count": null,
      "outputs": []
    },
    {
      "cell_type": "code",
      "metadata": {
        "id": "p7bb8Dy8RZnV",
        "colab": {
          "base_uri": "https://localhost:8080/",
          "height": 334
        },
        "outputId": "bbec2472-9105-42fa-f4fd-2333dc004d2e"
      },
      "source": [
        "plt.figure(figsize=(5,5))\n",
        "plt.scatter(dm,dm_fix)\n",
        "plt.xlabel(\"input distance\")\n",
        "plt.ylabel(\"output distance\")\n",
        "plt.show()"
      ],
      "execution_count": null,
      "outputs": [
        {
          "output_type": "display_data",
          "data": {
            "image/png": "[encoded data removed]",
            "text/plain": [
              "<Figure size 360x360 with 1 Axes>"
            ]
          },
          "metadata": {
            "tags": []
          }
        }
      ]
    },
    {
      "cell_type": "code",
      "metadata": {
        "id": "BQq6Q8ahxRyt"
      },
      "source": [],
      "execution_count": null,
      "outputs": []
    }
  ]
}