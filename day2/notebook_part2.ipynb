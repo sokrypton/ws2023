{
  "nbformat": 4,
  "nbformat_minor": 0,
  "metadata": {
    "colab": {
      "provenance": [],
      "include_colab_link": true
    },
    "kernelspec": {
      "name": "python3",
      "display_name": "Python 3"
    }
  },
  "cells": [
    {
      "cell_type": "markdown",
      "metadata": {
        "id": "view-in-github",
        "colab_type": "text"
      },
      "source": [
        "<a href=\"https://colab.research.google.com/github/sokrypton/ws2023/blob/main/day2/notebook_part2.ipynb\" target=\"_parent\"><img src=\"https://colab.research.google.com/assets/colab-badge.svg\" alt=\"Open In Colab\"/></a>"
      ]
    },
    {
      "cell_type": "code",
      "metadata": {
        "id": "iEJ5Zz_hkFNX"
      },
      "source": [
        "# import libraries\n",
        "import jax\n",
        "import jax.numpy as jnp\n",
        "import matplotlib.pylab as plt\n",
        "\n",
        "# new library for interations!\n",
        "import itertools as it"
      ],
      "execution_count": null,
      "outputs": []
    },
    {
      "cell_type": "markdown",
      "metadata": {
        "id": "YqcmGm9rKclx"
      },
      "source": [
        "## Statistical models"
      ]
    },
    {
      "cell_type": "code",
      "metadata": {
        "id": "VIR9AtisMkpi"
      },
      "source": [
        "# msa\n",
        "msa = jnp.array([\n",
        "    [0,1], # sequence 1\n",
        "    [1,0], # sequence 2\n",
        "    [0,1], # sequence 3\n",
        "    [1,0], # sequence 4\n",
        "])\n",
        "\n",
        "# define size\n",
        "N, L = msa.shape\n",
        "\n",
        "# define number of states\n",
        "A = 2\n",
        "\n",
        "print(\"msa\")\n",
        "print(msa)\n",
        "\n",
        "# one hot encode MSA\n",
        "msa = jnp.eye(A)[msa]"
      ],
      "execution_count": null,
      "outputs": []
    },
    {
      "cell_type": "markdown",
      "metadata": {
        "id": "WkI2zWz-OAAY"
      },
      "source": [
        "## PSSM"
      ]
    },
    {
      "cell_type": "code",
      "metadata": {
        "id": "t5T-_t1SbdXZ"
      },
      "source": [
        "def model(params, inputs):\n",
        "\n",
        "  msa = inputs[\"msa\"]\n",
        "  pssm_logits = params[\"pssm_logits\"]\n",
        "\n",
        "  # normalize so values sum to one\n",
        "  # pssm = jnp.exp(pssm_logits)/jnp.exp(pssm_logits).sum(-1,keepdims=True)\n",
        "  pssm = jax.nn.softmax(pssm_logits)\n",
        "\n",
        "  # log-probability\n",
        "  P = (msa * pssm).sum(-1)\n",
        "  logP = jnp.log(P).sum(-1)\n",
        "\n",
        "  # define loss function\n",
        "  # note for optimization, loss is \"minimized\"\n",
        "  # so to \"maximize\" the probability, we will \"minimize\" the -logP\n",
        "  loss = -logP.mean()\n",
        "\n",
        "  return loss, {\"P\":P, \"pssm\":pssm}"
      ],
      "execution_count": null,
      "outputs": []
    },
    {
      "cell_type": "code",
      "metadata": {
        "id": "02fyIv1GHIo4"
      },
      "source": [
        "inputs = {\"msa\":msa}\n",
        "\n",
        "# random initialization\n",
        "key = jax.random.PRNGKey(1)\n",
        "params = {\"pssm_logits\":jax.random.gumbel(key, shape=(L,A))}\n",
        "\n",
        "loss, outputs = model(params, inputs)\n",
        "\n",
        "# lets look at the PSSM BEFORE optimization\n",
        "print(\"PSSM BEFORE\")\n",
        "print(outputs[\"pssm\"])\n",
        "\n",
        "print(\"P(0,1) BEFORE\")\n",
        "P = outputs[\"P\"][0].prod()\n",
        "print(P)"
      ],
      "execution_count": null,
      "outputs": []
    },
    {
      "cell_type": "code",
      "metadata": {
        "id": "wXlCs0Y0iLtw"
      },
      "source": [
        "# get gradients = ∂loss/∂params\n",
        "grad_model = jax.value_and_grad(model, has_aux=True)"
      ],
      "execution_count": null,
      "outputs": []
    },
    {
      "cell_type": "code",
      "metadata": {
        "id": "T1EaK6qbkRyD"
      },
      "source": [
        "(loss,outputs), grad = grad_model(params, inputs)"
      ],
      "execution_count": null,
      "outputs": []
    },
    {
      "cell_type": "code",
      "metadata": {
        "id": "m0VaDDk-j8vg"
      },
      "source": [
        "loss"
      ],
      "execution_count": null,
      "outputs": []
    },
    {
      "cell_type": "code",
      "metadata": {
        "id": "gmNOTCk5lBiF"
      },
      "source": [
        "grad"
      ],
      "execution_count": null,
      "outputs": []
    },
    {
      "cell_type": "code",
      "metadata": {
        "id": "EKdeO5DblEbK"
      },
      "source": [
        "for n in range(100):\n",
        "  params[\"pssm_logits\"] -= 0.1 * grad[\"pssm_logits\"]\n",
        "  (loss,outputs), grad = grad_model(params, inputs)\n",
        "  if (n+1) % 10 == 0:\n",
        "    print(n+1,loss)"
      ],
      "execution_count": null,
      "outputs": []
    },
    {
      "cell_type": "code",
      "metadata": {
        "id": "PTfgskNFlQ1g"
      },
      "source": [
        "print(\"PSSM AFTER\")\n",
        "print(outputs[\"pssm\"])\n",
        "\n",
        "print(\"P(0,1) AFTER\")\n",
        "P = outputs[\"P\"][0].prod()\n",
        "print(P)"
      ],
      "execution_count": null,
      "outputs": []
    },
    {
      "cell_type": "markdown",
      "metadata": {
        "id": "XVVdUl5fOE3Z"
      },
      "source": [
        "## Markov Random Field\n",
        "Adding two-body term (W)"
      ]
    },
    {
      "cell_type": "code",
      "metadata": {
        "id": "BFjyuP2cMmsS"
      },
      "source": [
        "import itertools as it\n",
        "# \"Z\" alignment of all possible sequences!\n",
        "msa_Z =  jnp.array(list(it.product(jnp.arange(A),repeat=L)))\n",
        "print(\"msa_Z\")\n",
        "print(msa_Z)\n",
        "\n",
        "# one hot encode\n",
        "msa_Z = jnp.eye(A)[msa_Z]"
      ],
      "execution_count": null,
      "outputs": []
    },
    {
      "cell_type": "code",
      "metadata": {
        "id": "IEJCtQPrl1N0"
      },
      "source": [
        "def model(params, inputs):\n",
        "\n",
        "  msa_H = inputs[\"msa\"]\n",
        "  msa_Z = inputs[\"msa_Z\"]\n",
        "\n",
        "  # 1-body-term\n",
        "  V = params[\"V\"]\n",
        "\n",
        "  # 2-body-term\n",
        "  W = params[\"W\"]\n",
        "  W = W * (1-jnp.eye(L)[:,None,:,None]) # set diagonal to zero\n",
        "  W = 0.5 * (W + W.transpose((2,3,0,1))) # symmetrize\n",
        "\n",
        "  H = (msa_H * (V + jnp.tensordot(msa_H, W, 2))).sum((1,2))\n",
        "  Z = (msa_Z * (V + jnp.tensordot(msa_Z, W, 2))).sum((1,2))\n",
        "\n",
        "  # P(X|θ) = Probability of MSA (X) given parameters (θ)\n",
        "  P = jnp.exp(H)/jnp.exp(Z).sum()\n",
        "\n",
        "  # can also be thought as\n",
        "  # L(θ|X) = Likelihood of parameters (θ) given MSA (X)\n",
        "  # Log-Likelihood\n",
        "  LL = H - jnp.log(jnp.exp(Z).sum())\n",
        "\n",
        "  loss = -LL.mean()\n",
        "  return loss, {\"P\":P}"
      ],
      "execution_count": null,
      "outputs": []
    },
    {
      "cell_type": "code",
      "metadata": {
        "id": "vSNqORVzn2Ep"
      },
      "source": [
        "inputs = {\"msa\":msa,\"msa_Z\":msa_Z}\n",
        "\n",
        "params = {\"V\":jnp.zeros((L,A)),\n",
        "          \"W\":jnp.zeros((L,A,L,A))}\n",
        "\n",
        "grad_model = jax.jit(jax.value_and_grad(model, has_aux=True))\n",
        "(loss, outputs), grad = grad_model(params, inputs)\n",
        "\n",
        "\n",
        "print(\"P(0,1) BEFORE\")\n",
        "P = outputs[\"P\"][0]\n",
        "print(P)"
      ],
      "execution_count": null,
      "outputs": []
    },
    {
      "cell_type": "code",
      "metadata": {
        "id": "79xRl8q4qmS_"
      },
      "source": [
        "# instead of using GD, lets try ADAM\n",
        "from jax.example_libraries.optimizers import adam"
      ],
      "execution_count": null,
      "outputs": []
    },
    {
      "cell_type": "code",
      "metadata": {
        "id": "FmoNR0Y2rQWM"
      },
      "source": [
        "# initialize optimizer\n",
        "init_fun, update_fun, get_params = adam(1e-1)\n",
        "\n",
        "# initialize state\n",
        "state = init_fun(params)\n",
        "for n in range(100):\n",
        "  (loss,outputs), grad = grad_model(get_params(state), inputs)\n",
        "  state = update_fun(n, grad, state)\n",
        "  if (n+1) % 10 == 0:\n",
        "    print(n+1,loss)"
      ],
      "execution_count": null,
      "outputs": []
    },
    {
      "cell_type": "code",
      "metadata": {
        "id": "60lYtfYXoOTX"
      },
      "source": [
        "print(\"P(0,1) AFTER\")\n",
        "P = outputs[\"P\"][0]\n",
        "print(P)"
      ],
      "execution_count": null,
      "outputs": []
    },
    {
      "cell_type": "markdown",
      "source": [
        "# Coevolution Approximation (DCA - Inverse Covariance)"
      ],
      "metadata": {
        "id": "lMFEw-GveRko"
      }
    },
    {
      "cell_type": "code",
      "source": [
        "import numpy as np\n",
        "import matplotlib.pyplot as plt\n",
        "\n",
        "from matplotlib import colors\n",
        "YlBu = colors.ListedColormap(['gold','blue'])\n",
        "YlBuGr = colors.ListedColormap(['gold','blue','green'])\n",
        "\n",
        "import jax\n",
        "import jax.numpy as jnp\n",
        "\n",
        "@jax.jit\n",
        "def inv_cov(Y, lam=None):\n",
        "  Y = jnp.asarray(Y)\n",
        "  N,L,A = Y.shape\n",
        "  Y_flat = Y.reshape(N,-1)\n",
        "  c = jnp.cov(Y_flat.T)\n",
        "  if lam is None:\n",
        "    lam = 4.5/jnp.sqrt(N)\n",
        "  shrink = lam * jnp.eye(c.shape[0])\n",
        "  ic = jnp.linalg.inv(c + shrink)\n",
        "  return ic.reshape(L,A,L,A)\n",
        "\n",
        "def get_mtx(raw, apc=False, exclude_last=False, return_all=False):\n",
        "  raw = np.asarray(raw)\n",
        "  if exclude_last:\n",
        "    raw = raw[:,:-1,:,:-1]\n",
        "  mtx = np.sqrt(np.square(raw).sum((1,3)))\n",
        "  np.fill_diagonal(mtx,0)\n",
        "  if apc:\n",
        "    # apc (average product correction)\n",
        "    ap = np.sum(mtx,0,keepdims=True) * np.sum(mtx,1,keepdims=True)/np.sum(mtx)\n",
        "    mtx = mtx - ap\n",
        "    np.fill_diagonal(mtx,0)\n",
        "  if return_all:\n",
        "    return {\"W\":raw,\"mtx\":mtx}\n",
        "  else:\n",
        "    return mtx\n",
        "\n",
        "def get_coevo(X, reg=None, apc=False, exclude_last=False, return_all=False):\n",
        "  '''\n",
        "  ---------------------------------\n",
        "  input:\n",
        "  ---------------------------------\n",
        "   X = multiple sequence alignment\n",
        "  ---------------------------------\n",
        "  output:\n",
        "   W = coevolution matrix\n",
        "  ---------------------------------\n",
        "  '''\n",
        "  Y = np.eye(X.max()+1)[X] if X.ndim == 2 else X\n",
        "  return get_mtx(inv_cov(Y, lam=reg), apc=apc, exclude_last=exclude_last, return_all=return_all)"
      ],
      "metadata": {
        "id": "nPY2vlP7eW8e"
      },
      "execution_count": null,
      "outputs": []
    },
    {
      "cell_type": "code",
      "source": [
        "example_seqs = np.array([\n",
        "  [0, 1, 1, 0, 0, 1],\n",
        "  [1, 1, 0, 1, 1, 1],\n",
        "  [0, 0, 1, 1, 1, 1],\n",
        "  [0, 0, 1, 0, 0, 0],\n",
        "  [1, 1, 0, 0, 0, 1]\n",
        "])\n",
        "plt.imshow(example_seqs, cmap=YlBu)\n",
        "plt.xlabel(\"feautres (positions)\")\n",
        "plt.ylabel(\"samples (sequences)\")\n",
        "plt.show()"
      ],
      "metadata": {
        "id": "W1kIeLe_eW-8"
      },
      "execution_count": null,
      "outputs": []
    },
    {
      "cell_type": "code",
      "source": [
        "example_coevo = get_coevo(example_seqs, reg=0.001)\n",
        "plt.imshow(example_coevo, cmap=\"Blues\")"
      ],
      "metadata": {
        "id": "Ivxr_UrfeXBk"
      },
      "execution_count": null,
      "outputs": []
    },
    {
      "cell_type": "markdown",
      "source": [
        "## EXERCISE 1\n",
        "Try change the sequence (or make up a new sequence) to see if you can change the co-evolution pattern!\n",
        "\n",
        "What happens if you expand the alphabet?"
      ],
      "metadata": {
        "id": "7OxAUu5gfmJ6"
      }
    },
    {
      "cell_type": "code",
      "source": [
        "seqs = np.array([\n",
        "  [0, 0, 0, 0, 0, 0, 0, 0],\n",
        "  [0, 0, 0, 0, 0, 0, 0, 0],\n",
        "  [0, 0, 0, 0, 0, 0, 0, 0],\n",
        "  [0, 0, 0, 0, 0, 0, 0, 0],\n",
        "  [0, 0, 0, 0, 0, 0, 0, 0],\n",
        "  [0, 0, 0, 0, 0, 0, 0, 0],\n",
        "])\n",
        "plt.imshow(seqs, cmap=YlBu)\n",
        "plt.xlabel(\"feautres (positions)\")\n",
        "plt.ylabel(\"samples (sequences)\")\n",
        "plt.show()"
      ],
      "metadata": {
        "id": "hfaXYyRfffmN"
      },
      "execution_count": null,
      "outputs": []
    },
    {
      "cell_type": "code",
      "source": [
        "coevo = get_coevo(seqs, reg=0.001)\n",
        "plt.imshow(coevo, cmap=\"Blues\")"
      ],
      "metadata": {
        "id": "5_rlx6YtffoO"
      },
      "execution_count": null,
      "outputs": []
    },
    {
      "cell_type": "markdown",
      "source": [
        "# REAL DATA"
      ],
      "metadata": {
        "id": "vZZRwvj0d8gv"
      }
    },
    {
      "cell_type": "code",
      "source": [
        "#@title helper functions <- RUN THIS\n",
        "import string\n",
        "def parse_fasta(filename, a3m=False):\n",
        "  '''function to parse fasta file'''\n",
        "  if a3m:\n",
        "    # for a3m files the lowercase letters are removed\n",
        "    # as these do not align to the query sequence\n",
        "    rm_lc = str.maketrans(dict.fromkeys(string.ascii_lowercase))\n",
        "\n",
        "  header, sequence = [],[]\n",
        "  lines = open(filename, \"r\")\n",
        "  for line in lines:\n",
        "    line = line.rstrip()\n",
        "    if len(line) > 0:\n",
        "      if line[0] != \"#\":\n",
        "        if line[0] == \">\":\n",
        "          header.append(line[1:])\n",
        "          sequence.append([])\n",
        "        else:\n",
        "          if a3m: line = line.translate(rm_lc)\n",
        "          else: line = line.upper()\n",
        "          sequence[-1].append(line)\n",
        "  lines.close()\n",
        "  sequence = [''.join(seq) for seq in sequence]\n",
        "  return header, sequence\n",
        "\n",
        "def filt_seqs(names, seqs):\n",
        "  \n",
        "  # get query (first) sequence\n",
        "  query_seq = seqs[0]\n",
        "  \n",
        "  # convert sequence into numpy array of characters\n",
        "  query_array = np.array(list(query_seq))\n",
        "  \n",
        "  # check which characters are not \"-\"\n",
        "  query_non_gap = query_array != \"-\"\n",
        "  \n",
        "  # the length of query\n",
        "  query_length = sum(query_non_gap)\n",
        "  \n",
        "  # make a new list of names/sequences\n",
        "  new_names = []\n",
        "  new_seqs = []\n",
        "    \n",
        "  # for each name and sequence\n",
        "  for name,seq in zip(names,seqs):\n",
        "    \n",
        "    # convert sequence into numpy array of characters\n",
        "    seq_array = np.array(list(seq))\n",
        "\n",
        "    # select only positions that are non-gap in query\n",
        "    seq_array = seq_array[query_non_gap]\n",
        "\n",
        "    # count number of gaps remaining in sequence\n",
        "    seq_gap_count = sum(seq_array == \"-\")\n",
        "    \n",
        "    # if there are more than 25% gaps, ignore\n",
        "    if seq_gap_count/query_length <= 0.25:\n",
        "      new_names.append(name)\n",
        "      new_seqs.append(\"\".join(seq_array))\n",
        "            \n",
        "  return new_names, new_seqs\n",
        "\n",
        "def mk_msa(seqs):\n",
        "  '''one hot encode msa'''\n",
        "  alphabet = list(\"ARNDCQEGHILKMFPSTWYV-\")\n",
        "  states = len(alphabet)\n",
        "\n",
        "  alpha = np.array(alphabet, dtype='|S1').view(np.uint8)\n",
        "  msa = np.array([list(s) for s in seqs], dtype='|S1').view(np.uint8)\n",
        "  for n in range(states):\n",
        "    msa[msa == alpha[n]] = n\n",
        "  msa[msa > states] = states-1\n",
        "  return np.eye(states)[msa]"
      ],
      "metadata": {
        "id": "VQH_A5Fld9dz",
        "cellView": "form"
      },
      "execution_count": null,
      "outputs": []
    },
    {
      "cell_type": "code",
      "source": [
        "nams, seqs = filt_seqs(*parse_fasta(\"psiblast_3735580.aln\"))\n",
        "msa = mk_msa(seqs)"
      ],
      "metadata": {
        "id": "kEACnlZnf_LZ"
      },
      "execution_count": null,
      "outputs": []
    },
    {
      "cell_type": "code",
      "source": [
        "O = get_coevo(msa, apc=True, exclude_last=True, return_all=True)"
      ],
      "metadata": {
        "id": "McSB5Kc1eQqB"
      },
      "execution_count": null,
      "outputs": []
    },
    {
      "cell_type": "code",
      "source": [
        "plt.imshow(O[\"mtx\"],vmin=0,vmax=0.3, cmap=\"Blues\")"
      ],
      "metadata": {
        "id": "ArrR7S3Vfyxm"
      },
      "execution_count": null,
      "outputs": []
    },
    {
      "cell_type": "code",
      "source": [
        "def get_topk(A,k=10):\n",
        "  i_upper = np.triu_indices(A.shape[0], k=1)\n",
        "  upper_triangle_values = A[i_upper]\n",
        "  absolute_values = np.abs(upper_triangle_values)\n",
        "  sorted_indices = np.argsort(absolute_values)[::-1]\n",
        "  top_10_indices = sorted_indices[:k]\n",
        "  top_10_values = upper_triangle_values[top_10_indices]\n",
        "  top_10_i, top_10_j = np.array(i_upper)[:, top_10_indices]\n",
        "  for value, i, j in zip(top_10_values, top_10_i, top_10_j):\n",
        "    print(f\"{i} {j} {value}\")  "
      ],
      "metadata": {
        "id": "B3sT0ShEX-kp"
      },
      "execution_count": null,
      "outputs": []
    },
    {
      "cell_type": "code",
      "source": [
        "get_topk(O[\"mtx\"])"
      ],
      "metadata": {
        "id": "23hiB9mVY0F-"
      },
      "execution_count": null,
      "outputs": []
    },
    {
      "cell_type": "code",
      "source": [
        "def plot_w(w,i,j):\n",
        "  sub_w = w[i,:,j,:]\n",
        "  mx = np.abs(sub_w).max()\n",
        "  \n",
        "  # plot\n",
        "  alphabet = list(\"ARNDCQEGHILKMFPSTWYV-\")\n",
        "  plt.figure(figsize=(w.shape[0]/3,w.shape[1]/4))\n",
        "  plt.imshow(sub_w,cmap='bwr_r',vmin=-mx,vmax=mx)\n",
        "  plt.xticks(np.arange(sub_w.shape[0]))\n",
        "  plt.yticks(np.arange(sub_w.shape[1]))\n",
        "  plt.grid(False)\n",
        "  plt.gca().xaxis.set_major_formatter(plt.FuncFormatter(lambda x,y: alphabet[x])) \n",
        "  plt.gca().yaxis.set_major_formatter(plt.FuncFormatter(lambda x,y: alphabet[x]))\n",
        "  plt.title(f\"coupling matrix for {i} and {j}\")\n",
        "  plt.show()\n",
        "\n",
        "plot_w(O[\"W\"],16,76)"
      ],
      "metadata": {
        "id": "v0vHznVsWq3l"
      },
      "execution_count": null,
      "outputs": []
    }
  ]
}